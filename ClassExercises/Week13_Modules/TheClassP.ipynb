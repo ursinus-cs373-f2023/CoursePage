{
 "cells": [
  {
   "cell_type": "markdown",
   "id": "13448a9f",
   "metadata": {},
   "source": [
    "# The Class P (Polynomial)"
   ]
  },
  {
   "cell_type": "markdown",
   "id": "f2fb6872",
   "metadata": {},
   "source": [
    "P = {$L$ | $L$ is a language and $L$ can be decided in $O(N^p)$ time for an input of size $N$, $p \\geq 0$}"
   ]
  },
  {
   "cell_type": "markdown",
   "id": "ac3ff421",
   "metadata": {},
   "source": [
    "Ex) $L = \\{w \\# w | w \\in \\Sigma^* \\}$"
   ]
  },
  {
   "cell_type": "markdown",
   "id": "3dc4036b",
   "metadata": {},
   "source": [
    "Single tape TM decider for this problem\n",
    "For each character, it moves $len(w) + 1$ to right and crosses things off, then it moves back\n",
    "Does this for each of $len(w)$ characters\n",
    "\n",
    "N = $2len(w) + 1$\n",
    "\n",
    "Therefore, the timing $f(N) = N (N/2)$"
   ]
  },
  {
   "cell_type": "markdown",
   "id": "dbb964b8",
   "metadata": {},
   "source": [
    "$f(N)$ is $O(N^2)$"
   ]
  },
  {
   "cell_type": "markdown",
   "id": "1e867b93",
   "metadata": {},
   "source": [
    "But recall that we can decide $L$ in $O(N)$ time using a 2-tape turing machine.  This is an example of a more general phenomenon"
   ]
  },
  {
   "cell_type": "markdown",
   "id": "678499ef",
   "metadata": {},
   "source": [
    "### Lemma: Multitape -> Single Tape Reduction with Complexity"
   ]
  },
  {
   "cell_type": "markdown",
   "id": "763ce1b6",
   "metadata": {},
   "source": [
    "If a language can be decided in $T$ steps by a multitape turing machine with a constant number of tapes, then that language can be decided in $O(T^2)$ time by a single tape turing machine"
   ]
  },
  {
   "cell_type": "markdown",
   "id": "6a852a1b",
   "metadata": {},
   "source": [
    "Corollary: If a language $L$ can be decided in polynomial time $N^p$ by a multitape turing machine, then it can be decided in $N^{2p}$ time by a single-tape turing machine.  So therefore, $L$ is in $P$ if $L$ is decided in polynomial time by a multitape turing machine"
   ]
  },
  {
   "cell_type": "markdown",
   "id": "68c9555d",
   "metadata": {},
   "source": [
    "Proof:\n",
    "\n",
    "<img src = \"MultitapeSingleTape.svg\">"
   ]
  },
  {
   "cell_type": "code",
   "execution_count": null,
   "id": "8209a04c",
   "metadata": {},
   "outputs": [],
   "source": []
  }
 ],
 "metadata": {
  "kernelspec": {
   "display_name": "Python 3 (ipykernel)",
   "language": "python",
   "name": "python3"
  },
  "language_info": {
   "codemirror_mode": {
    "name": "ipython",
    "version": 3
   },
   "file_extension": ".py",
   "mimetype": "text/x-python",
   "name": "python",
   "nbconvert_exporter": "python",
   "pygments_lexer": "ipython3",
   "version": "3.11.3"
  }
 },
 "nbformat": 4,
 "nbformat_minor": 5
}
