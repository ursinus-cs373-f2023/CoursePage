{
 "cells": [
  {
   "cell_type": "markdown",
   "id": "51a64717",
   "metadata": {},
   "source": [
    "# The Class NP"
   ]
  },
  {
   "cell_type": "markdown",
   "id": "f2c6577b",
   "metadata": {},
   "source": [
    "Given a *verifier* $v$, which is a TM (an algorithm) and a *certificate* $c$ (a string), can define a language as\n",
    "\n",
    "L = {w | there exists a $c$ so that $v$ accepts <w, c>}"
   ]
  },
  {
   "cell_type": "markdown",
   "id": "8fc2f03d",
   "metadata": {},
   "source": [
    "Intuitively, the certificate is the solution to the problem that w represents"
   ]
  },
  {
   "cell_type": "markdown",
   "id": "2c107a97",
   "metadata": {},
   "source": [
    "NP = {L | L can be verified in polynomial time}\n",
    "\n",
    "More precisely, there exists a verifier $v$ so that for every $<c, w>$ of length $N$, the verifier decides $<c, w>$ in $O(N^p)$ time, $p > 0$"
   ]
  },
  {
   "cell_type": "markdown",
   "id": "91a0b48b",
   "metadata": {},
   "source": [
    "### Example 1: Hamiltonian Path\n",
    "\n",
    "<img src = \"hampath.svg\">"
   ]
  },
  {
   "cell_type": "markdown",
   "id": "48f61234",
   "metadata": {},
   "source": [
    "Naive: Try all N! permutations and verify them\n",
    "\n",
    "$O(N^2 N!)$"
   ]
  },
  {
   "cell_type": "code",
   "execution_count": null,
   "id": "63f2d31a",
   "metadata": {},
   "outputs": [],
   "source": [
    "def hampath_verifier(G, c)\n",
    "    # O(EV) steps, which is about O(N^2), p=2\n",
    "    # Given V vertices and E edges\n",
    "    (verts, edges) = G\n",
    "    is_valid = True\n",
    "    for i in range(len(c)-1): # O(V)\n",
    "        u = c[i]\n",
    "        v = c[i+1]\n",
    "        # Verify that (u, v) is an edge\n",
    "        is_edge = False\n",
    "        for e in edges: # O(E)\n",
    "            if (u, v) is e:\n",
    "                is_edge = True\n",
    "        if not is_edge:\n",
    "            is_valid = False\n",
    "    if is_valid:\n",
    "        accept\n",
    "    else:\n",
    "        reject"
   ]
  },
  {
   "cell_type": "markdown",
   "id": "3ed98784",
   "metadata": {},
   "source": [
    "### Example 2: Independent Set\n",
    "\n",
    "<img src = \"independentset.svg\">\n",
    "\n",
    "\n",
    "A naive algorithm would try all subsets of size $k$ of the vertices and verify them\n",
    "\n",
    "Suppose k = N/2\n",
    "\n",
    "$O(N^3 N!/((N/2)!^2))$\n"
   ]
  },
  {
   "cell_type": "code",
   "execution_count": null,
   "id": "f98d2591",
   "metadata": {},
   "outputs": [],
   "source": [
    "def independentset_k_verifier(G, c):\n",
    "    # Given V vertices and E edges\n",
    "    # this goes through O(k^2 E) steps\n",
    "    # Noting that k could actually be on the order of N\n",
    "    # This is an O(N^3) verifier\n",
    "    (verts, edges) = G\n",
    "    is_valid = True\n",
    "    for (u, v) in c x c: # O(k^2)\n",
    "        for e in edges: # O(E)\n",
    "            if (u, v) = e:\n",
    "                is_valid = False\n",
    "    return is_valid"
   ]
  },
  {
   "cell_type": "markdown",
   "id": "187a2e1c",
   "metadata": {},
   "source": [
    "### Lemma: Every problem that's in P is in NP"
   ]
  },
  {
   "cell_type": "markdown",
   "id": "e722a5c4",
   "metadata": {},
   "source": [
    "Proof: A problem in $P$ can solved in polynomial time.  A problems in NP if I can find a polynomial time verifier for it\n",
    "\n",
    "Ex) L = {w#w | w is a string over alphabet}\n"
   ]
  },
  {
   "cell_type": "code",
   "execution_count": null,
   "id": "602f54c4",
   "metadata": {},
   "outputs": [],
   "source": [
    "def verify_P(w, c):\n",
    "    # ignore the certificate c, and\n",
    "    # solve the problem\n",
    "    accept if the problem accepts # This runs in polynomial time\n",
    "    reject if the problem rejects"
   ]
  },
  {
   "cell_type": "markdown",
   "id": "24061620",
   "metadata": {},
   "source": [
    "### $P \\subset NP$"
   ]
  },
  {
   "cell_type": "markdown",
   "id": "fdeafa9a",
   "metadata": {},
   "source": [
    "## NP Stands for \"Nondeterministic Polynomial\""
   ]
  },
  {
   "cell_type": "markdown",
   "id": "0b4dd7b7",
   "metadata": {},
   "source": [
    "Claim: A problem is in NP if it can be decided in polynomial time on a *nondeterministic turing machine*"
   ]
  },
  {
   "cell_type": "markdown",
   "id": "128bfa1a",
   "metadata": {},
   "source": [
    "To prove: A problem is in NP if and only if that problem can be decided in polynomial time by a NTM"
   ]
  },
  {
   "cell_type": "markdown",
   "id": "c4733506",
   "metadata": {},
   "source": [
    "First direction: Given a NTM M that decides $L$ in O(N^k), show that we can construct a $O(N^k)$ time verifier\n",
    "\n",
    "A certificate identifies one branch of the NTM $M$'s computation.  So we'll run the NTM just on that branch.  Because NTM was polynomial time, then each branch runs in polynomial time, so therefore the branch corresponding to our certificate runs in $O(N^k)$ time.\n",
    "\n",
    "\n",
    "Second direction: Given that we can verify in $L$ in $O(N^k)$ time, show that we can construct an NTM that decides in $O(N^k)$ time.\n",
    "\n",
    "Nondeterministically select strings as inputs of length not more than $O(N^k)$, and run the verifier in parallel on each of these strings.  And if one of the branches accepts, we accept the whole thing.\n",
    "\n"
   ]
  },
  {
   "cell_type": "markdown",
   "id": "ecd22567",
   "metadata": {},
   "source": [
    "## P = NP??\n",
    "\n",
    "<img src = \"PVsNP.svg\">"
   ]
  },
  {
   "cell_type": "markdown",
   "id": "6a42b39b",
   "metadata": {},
   "source": [
    "The general consensus is that hypothesis 1 is the correct one, but we're not 100% sure still after decades of work on this!"
   ]
  },
  {
   "cell_type": "code",
   "execution_count": null,
   "id": "a069b326",
   "metadata": {},
   "outputs": [],
   "source": []
  }
 ],
 "metadata": {
  "kernelspec": {
   "display_name": "Python 3 (ipykernel)",
   "language": "python",
   "name": "python3"
  },
  "language_info": {
   "codemirror_mode": {
    "name": "ipython",
    "version": 3
   },
   "file_extension": ".py",
   "mimetype": "text/x-python",
   "name": "python",
   "nbconvert_exporter": "python",
   "pygments_lexer": "ipython3",
   "version": "3.11.3"
  }
 },
 "nbformat": 4,
 "nbformat_minor": 5
}
