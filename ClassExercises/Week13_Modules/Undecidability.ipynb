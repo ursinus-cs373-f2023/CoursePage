{
 "cells": [
  {
   "cell_type": "markdown",
   "id": "d13e33a6",
   "metadata": {},
   "source": [
    "If I have a problem $L$ that I want to prove is undecidable, then I will assume by contradiction that $L$ is decidable, and I will reduce $A_{TM}$ to deciding $L$, and I will show that the decider for $L$ decides $A_{TM}$.  That's impossible, so $L$ must not be decidable"
   ]
  },
  {
   "cell_type": "markdown",
   "id": "6d80a3c0",
   "metadata": {},
   "source": [
    "## Halting Problem\n",
    "\n",
    "### H<SUB>TM</SUB> = {<M, w> | M is a TM and M halts on w}\n"
   ]
  },
  {
   "cell_type": "markdown",
   "id": "f8eefd22",
   "metadata": {},
   "source": [
    "Assume by contradiction that HTM is decidable.  Let such a decider be called $H$"
   ]
  },
  {
   "cell_type": "code",
   "execution_count": null,
   "id": "57796f5d",
   "metadata": {},
   "outputs": [],
   "source": [
    "def ATM(M, w):\n",
    "    if H(M, w) accepts:\n",
    "        # Machine halts on w\n",
    "        # Then it's safe to run the machine\n",
    "        run M on w\n",
    "        if M accepts\n",
    "            return accept\n",
    "        else\n",
    "            return reject\n",
    "    else:\n",
    "        return reject"
   ]
  },
  {
   "cell_type": "markdown",
   "id": "cbd3dddb",
   "metadata": {},
   "source": [
    "## ETM (Empty Turing Machine)\n",
    "\n",
    "#### E<SUB>TM</SUB> = { &lt; M &gt; | M is a TM and M recognizes the empty language $\\emptyset$}\n",
    "\n",
    "Assume by contradiction that ETM has a decider $E$"
   ]
  },
  {
   "cell_type": "code",
   "execution_count": null,
   "id": "a310bb00",
   "metadata": {},
   "outputs": [],
   "source": [
    "def sub_M_w(s):\n",
    "    if M accepts w: # Run M on w\n",
    "        # \"Shape shift\" this machine into accepting some language\n",
    "        if s == \"CS 373 rocks\"\n",
    "            accept\n",
    "        else:\n",
    "            reject\n",
    "    else:\n",
    "        # Shape shifts into an empty language\n",
    "        reject\n",
    "        \n",
    "def ATM(M, w):\n",
    "    if E(sub_M_w) accept\n",
    "        reject\n",
    "    else\n",
    "        accept"
   ]
  },
  {
   "cell_type": "markdown",
   "id": "c5431b0a",
   "metadata": {},
   "source": [
    "## RegTM\n",
    "\n",
    "### Reg<SUB>TM</SUB> = { &lt;M&gt; | M is a TM that recognizes a regular language}\n",
    "\n",
    "is undecidable\n",
    "\n",
    "Assume I had a decider $R$ for RegTM"
   ]
  },
  {
   "cell_type": "code",
   "execution_count": null,
   "id": "a73b9baa",
   "metadata": {},
   "outputs": [],
   "source": [
    "def sub_M_w(s):\n",
    "    if M accepts w: # Run M on w\n",
    "        # \"Shape shift\" this machine into something accepting\n",
    "        # a regular language\n",
    "        if s in 0*1*\n",
    "            accept\n",
    "        else:\n",
    "            reject\n",
    "    else:\n",
    "        # \"Shape shift\" into a nonregular language\n",
    "        if s in {0^n1^n | n >= 0}\n",
    "            accept\n",
    "        else\n",
    "            reject\n",
    "\n",
    "def ATM(M, w):\n",
    "    if R(sub_M_w) accepts\n",
    "        accept\n",
    "    else\n",
    "        reject"
   ]
  },
  {
   "cell_type": "markdown",
   "id": "999a2891",
   "metadata": {},
   "source": [
    "## TwoWriteTM\n",
    "\n",
    "TwoWriteTM = { < M > | M is a 2-tape turing machine and M writes to the second tape at some point}\n",
    "\n",
    "Assume by contradiction that there exists a decider $T$ for TwoWriteTM"
   ]
  },
  {
   "cell_type": "code",
   "execution_count": null,
   "id": "84d0b20b",
   "metadata": {},
   "outputs": [],
   "source": [
    "def sub_M_w(s): # Implemented with a 2-tape TM\n",
    "    * Create a 2-tape turing machine M2\n",
    "    * Load w onto first tape of M2, and run M on M2 using that tape\n",
    "    if M2 accepts on the top tape\n",
    "        write a 1 to the second tape\n",
    "    # (Otherwise, we leave second tape blank)\n",
    "\n",
    "def ATM(M, w): # Takes as input a 1-tape TM M\n",
    "    if T(sub_M_w) accepts\n",
    "        return accept\n",
    "    else\n",
    "        return reject"
   ]
  },
  {
   "cell_type": "markdown",
   "id": "13b2ada3",
   "metadata": {},
   "source": [
    "## Rice's Theorem\n",
    "\n",
    "Given a language $L$ over string encodings of TM's <M> and a property $P$ of the language with 2 conditions\n",
    "    \n",
    "1) $P$ is nontrivial; at least one TM satisfies this property, and not all TMs satisfy this property\n",
    "    e.g. Nontrivial M does not accept any palindromes\n",
    "    e.g. Trivial M accepts strings with 0's or rejects strings with 0's\n",
    "    \n",
    "2) $P$ is a \"semantic property\"; $P$ does not depend on implementation details of the TM.  $<M> \\in L$ if and only if $L(M)$ recognizes satisfies $P$"
   ]
  },
  {
   "cell_type": "markdown",
   "id": "ad92a3b3",
   "metadata": {},
   "source": [
    "Then $L$ is undecidable"
   ]
  },
  {
   "cell_type": "markdown",
   "id": "4bedd840",
   "metadata": {},
   "source": [
    "Proof:\n",
    "Suppose I have language $L$ with a property $P$ satisfying the conditions of Rice's theorem.\n",
    "\n",
    "Since it satisfies nontriviality, I can take out machines that satisfy $P$ and machines that don't.  Let $A$ be language of machines that satisfy and $B$ be language of machines that don't\n",
    "\n",
    "Assume I have a decider $D$ for $L$\n"
   ]
  },
  {
   "cell_type": "code",
   "execution_count": null,
   "id": "719cac5f",
   "metadata": {},
   "outputs": [],
   "source": [
    "def sub_M_w(s):\n",
    "    if M accepts w: # Run M on w\n",
    "        # \"Shape shift\" this machine into a machine that \n",
    "        # satisfies my property P\n",
    "        Pick a machine in $A$ and run it\n",
    "        if machine accepts s\n",
    "            accept\n",
    "        else\n",
    "            reject\n",
    "    else:\n",
    "        # \"Shape shift\" into a machine that does not satisfy\n",
    "        # the property P\n",
    "        Pick a machine in $B$ and run it\n",
    "        if machine accepts s\n",
    "            accept\n",
    "        else\n",
    "            reject\n",
    "\n",
    "def ATM(M, w):\n",
    "    if D(sub_M_w) accepts\n",
    "        accept\n",
    "    else\n",
    "        reject"
   ]
  },
  {
   "cell_type": "markdown",
   "id": "6c07aa2e",
   "metadata": {},
   "source": [
    "this allowed me to create a decider for $A_{TM}$, therefore, my assumption that $L$ had a decider was false."
   ]
  },
  {
   "cell_type": "code",
   "execution_count": null,
   "id": "2119ca4a",
   "metadata": {},
   "outputs": [],
   "source": []
  }
 ],
 "metadata": {
  "kernelspec": {
   "display_name": "Python 3 (ipykernel)",
   "language": "python",
   "name": "python3"
  },
  "language_info": {
   "codemirror_mode": {
    "name": "ipython",
    "version": 3
   },
   "file_extension": ".py",
   "mimetype": "text/x-python",
   "name": "python",
   "nbconvert_exporter": "python",
   "pygments_lexer": "ipython3",
   "version": "3.11.3"
  }
 },
 "nbformat": 4,
 "nbformat_minor": 5
}
