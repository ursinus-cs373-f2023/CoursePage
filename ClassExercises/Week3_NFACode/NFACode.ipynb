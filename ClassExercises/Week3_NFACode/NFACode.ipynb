{
 "cells": [
  {
   "cell_type": "markdown",
   "id": "c5e98114",
   "metadata": {},
   "source": [
    "## No Lambdas\n",
    "\n",
    "Example: 1 in the second to last place\n",
    "\n",
    "<img src = \"../Week3_NFAs/1in2splace.png\">"
   ]
  },
  {
   "cell_type": "code",
   "execution_count": 1,
   "id": "529520d9",
   "metadata": {},
   "outputs": [
    {
     "name": "stdout",
     "output_type": "stream",
     "text": [
      "{'q'}\n",
      "{'q2', 'q'}\n",
      "{'q2', 'q', 'q0'}\n",
      "{'q', 'q0'}\n",
      "{'q2', 'q'}\n",
      "{'q', 'q0'}\n",
      "11010 Accepts: True\n"
     ]
    }
   ],
   "source": [
    "def eval_nfa(s, q, delta, F, verbose=False):\n",
    "    \"\"\"\n",
    "    Evaluate a standard NFA with no lambda arrows\n",
    "    \n",
    "    Parameters\n",
    "    ----------\n",
    "    s: string\n",
    "        Input to try\n",
    "    q: string\n",
    "        Start state\n",
    "    delta: (string, string) -> set([string])\n",
    "        Transition function\n",
    "    F: set([string])\n",
    "        Accept states\n",
    "    verbose: bool\n",
    "        If True, print info about sequence of states that are visited\n",
    "    \"\"\"\n",
    "    states = set([q])\n",
    "    for c in s:\n",
    "        if verbose:\n",
    "            print(states)\n",
    "        next_states = set([])\n",
    "        for p in states:\n",
    "            if (p, c) in delta:\n",
    "                next_states = next_states.union(delta[(p, c)])\n",
    "        states = next_states\n",
    "    if verbose:\n",
    "        print(states)\n",
    "    return len(states.intersection(F)) > 0\n",
    "\n",
    "\n",
    "delta = {\n",
    "    (\"q\", \"0\"):{\"q\"},\n",
    "    (\"q\", \"1\"):{\"q\", \"q2\"},\n",
    "    (\"q2\", \"0\"):{\"q0\"},\n",
    "    (\"q2\", \"1\"):{\"q0\"}\n",
    "}\n",
    "\n",
    "F = {\"q0\"}\n",
    "q = \"q\"\n",
    "s = \"11010\"\n",
    "print(s, \"Accepts:\", eval_nfa(s, q, delta, F, verbose=True))"
   ]
  },
  {
   "cell_type": "markdown",
   "id": "53cd4a70",
   "metadata": {},
   "source": [
    "This matches the picture we drew\n",
    "\n",
    "<img src = \"../Week3_NFAs/1In2sPlaceInput.svg\" width=\"25%\">"
   ]
  },
  {
   "cell_type": "markdown",
   "id": "dff816b3",
   "metadata": {},
   "source": [
    "## With Lambdas\n",
    "\n",
    "Let's try the union example\n",
    "\n",
    "<img src = \"../Week3_NFAs/UnionExample.png\">\n",
    "\n",
    "We'll use python None to represent $\\lambda$"
   ]
  },
  {
   "cell_type": "code",
   "execution_count": 2,
   "id": "e5e67b93",
   "metadata": {},
   "outputs": [
    {
     "name": "stdout",
     "output_type": "stream",
     "text": [
      "{'q'}\n",
      "After lambda expansion: {'q', 'q0', 'peven'}\n",
      "{'q0', 'podd'}\n",
      "After lambda expansion: {'q0', 'podd'}\n",
      "{'q0', 'peven'}\n",
      "After lambda expansion: {'q0', 'peven'}\n",
      "{'q0', 'podd'}\n",
      "After lambda expansion: {'q0', 'podd'}\n",
      "{'q1', 'podd'}\n",
      "After lambda expansion: {'q1', 'podd'}\n",
      "{'q2', 'podd'}\n",
      "After lambda expansion: {'q2', 'podd'}\n",
      "00011 Accepts: True\n"
     ]
    }
   ],
   "source": [
    "def expand_lambdas_rec(delta, s, states):\n",
    "    \"\"\"\n",
    "    Helper method for recursive lambda arrow following\n",
    "    \"\"\"\n",
    "    if (s, None) in delta:\n",
    "        states.update(delta[(s, None)]) # Add all elements coming out of lambda to the set\n",
    "        for p in delta[(s, None)]:\n",
    "            # Continue exploring other lambda arrows coming out of these states\n",
    "            expand_lambdas_rec(delta, p, states)\n",
    "\n",
    "def expand_lambdas(delta, states):\n",
    "    \"\"\"\n",
    "    Recursively follow all arrows with lambdas and add\n",
    "    whatever states are visited to the set of states\n",
    "    \"\"\"\n",
    "    orig_states = list(states)\n",
    "    for s in orig_states:\n",
    "        expand_lambdas_rec(delta, s, states)\n",
    "\n",
    "def eval_nfa_withlambda(s, q, delta, F, verbose=False):\n",
    "    \"\"\"\n",
    "    Evaluate an NFA that includes lambda arrows\n",
    "    \n",
    "    Parameters\n",
    "    ----------\n",
    "    s: string\n",
    "        Input to try\n",
    "    q: string\n",
    "        Start state\n",
    "    delta: (string, string) -> set([string])\n",
    "        Transition function.  Lambda transitions are represented as (string, None)\n",
    "    F: set([string])\n",
    "        Accept states\n",
    "    verbose: bool\n",
    "        If True, print info about sequence of states that are visited\n",
    "    \"\"\"\n",
    "    states = set([q])\n",
    "    for c in s:\n",
    "        if verbose:\n",
    "            print(states)\n",
    "        expand_lambdas(delta, states)\n",
    "        if verbose:\n",
    "            print(\"After lambda expansion:\", states)\n",
    "        next_states = set([])\n",
    "        for p in states:\n",
    "            if (p, c) in delta:\n",
    "                next_states = next_states.union(delta[(p, c)])\n",
    "        states = next_states\n",
    "    if verbose:\n",
    "        print(states)\n",
    "    expand_lambdas(delta, states)\n",
    "    if verbose:\n",
    "        print(\"After lambda expansion:\", states)\n",
    "    return len(states.intersection(F)) > 0\n",
    "\n",
    "\n",
    "\n",
    "delta = {\n",
    "    (\"q\", None):{\"q0\", \"peven\"},\n",
    "    \n",
    "    (\"q0\", \"0\"):{\"q0\"},\n",
    "    (\"q0\", \"1\"):{\"q1\"},\n",
    "    (\"q1\", \"0\"):{\"q1\"},\n",
    "    (\"q1\", \"1\"):{\"q2\"},\n",
    "    (\"q2\", \"0\"):{\"q2\"},\n",
    "    (\"q2\", \"1\"):{\"q2\"},\n",
    "    \n",
    "    (\"peven\", \"0\"):{\"podd\"},\n",
    "    (\"peven\", \"1\"):{\"peven\"},\n",
    "    (\"podd\", \"0\"):{\"peven\"},\n",
    "    (\"podd\", \"1\"):{\"podd\"}\n",
    "}\n",
    "q = \"q\"\n",
    "F = {\"q0\", \"q1\", \"podd\"}\n",
    "s = \"00011\"\n",
    "print(s, \"Accepts:\", eval_nfa_withlambda(s, q, delta, F, verbose=True))"
   ]
  },
  {
   "cell_type": "markdown",
   "id": "f967b738",
   "metadata": {},
   "source": [
    "This matches the picture we drew\n",
    "\n",
    "<img src = \"../Week3_NFAs/UnionExampleInput.svg\" width=\"25%\">"
   ]
  },
  {
   "cell_type": "markdown",
   "id": "49232b51",
   "metadata": {},
   "source": [
    "## More Complicated Example with Lambdas\n",
    "\n",
    "<img src = \"../Week3_NFAs/LambdaEx.png\">"
   ]
  },
  {
   "cell_type": "code",
   "execution_count": 3,
   "id": "f0212879",
   "metadata": {},
   "outputs": [
    {
     "name": "stdout",
     "output_type": "stream",
     "text": [
      "{'q0'}\n",
      "After lambda expansion: {'q2', 'q1', 'q0'}\n",
      "{'q2', 'q0'}\n",
      "After lambda expansion: {'q2', 'q1', 'q0'}\n",
      "{'q2', 'q0'}\n",
      "After lambda expansion: {'q2', 'q1', 'q0'}\n",
      "{'q1'}\n",
      "After lambda expansion: {'q2', 'q1'}\n",
      "{'q1'}\n",
      "After lambda expansion: {'q2', 'q1'}\n",
      "0011 Accepts: True\n"
     ]
    }
   ],
   "source": [
    "delta = {\n",
    "    (\"q0\", None):{\"q1\"},\n",
    "    (\"q0\", \"0\"):{\"q0\"},\n",
    "    (\"q0\", \"1\"):{\"q1\"},\n",
    "    \n",
    "    (\"q1\", \"1\"):{\"q1\"},\n",
    "    (\"q1\", None):{\"q2\"},\n",
    "    \n",
    "    (\"q2\", \"0\"):{\"q2\"}\n",
    "}\n",
    "q = \"q0\"\n",
    "F = {\"q2\"}\n",
    "s = \"0011\"\n",
    "print(s, \"Accepts:\", eval_nfa_withlambda(s, q, delta, F, verbose=True))"
   ]
  },
  {
   "cell_type": "markdown",
   "id": "22372bc9",
   "metadata": {},
   "source": [
    "Notice that this matches our picture from before:\n",
    "\n",
    "<img src = \"../Week3_NFAs/LambdaEx.svg\" width=\"35%\">\n",
    "\n",
    "But one crucial difference is if two clones are at the same state at any moment in time, <b>we condense them into a single copy of that state</b> due to our use of the set object.  This is a huge advantage of coding up NFAs in practice, and it prevents an exponential blowup of clones.  In particular, we can never have more than <b>|Q|</b> states in memory at one time"
   ]
  },
  {
   "cell_type": "code",
   "execution_count": null,
   "id": "a7da2949",
   "metadata": {},
   "outputs": [],
   "source": []
  }
 ],
 "metadata": {
  "kernelspec": {
   "display_name": "Python 3 (ipykernel)",
   "language": "python",
   "name": "python3"
  },
  "language_info": {
   "codemirror_mode": {
    "name": "ipython",
    "version": 3
   },
   "file_extension": ".py",
   "mimetype": "text/x-python",
   "name": "python",
   "nbconvert_exporter": "python",
   "pygments_lexer": "ipython3",
   "version": "3.11.3"
  }
 },
 "nbformat": 4,
 "nbformat_minor": 5
}
